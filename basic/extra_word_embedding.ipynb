{
 "cells": [
  {
   "cell_type": "code",
   "execution_count": 2,
   "id": "52d1b766",
   "metadata": {},
   "outputs": [],
   "source": [
    "import torch\n",
    "import torch.nn as nn\n",
    "import torch.optim as optim\n",
    "import torch.nn.functional as F\n",
    "import numpy as np"
   ]
  },
  {
   "cell_type": "code",
   "execution_count": 3,
   "id": "d27fc96c",
   "metadata": {},
   "outputs": [
    {
     "name": "stdout",
     "output_type": "stream",
     "text": [
      "Using cpu device\n"
     ]
    }
   ],
   "source": [
    "device = (\"cuda\" if torch.cuda.is_available() else \"cpu\")\n",
    "print(f\"Using {device} device\")"
   ]
  },
  {
   "cell_type": "markdown",
   "id": "146ad0d0",
   "metadata": {},
   "source": []
  },
  {
   "cell_type": "code",
   "execution_count": 23,
   "id": "cf76c82a",
   "metadata": {},
   "outputs": [],
   "source": [
    "sentence = \"Hello. We are LLM students at the Chanwanich. Hello I am LLM LLM students at the Chanwanich.\"\n"
   ]
  },
  {
   "cell_type": "code",
   "execution_count": 24,
   "id": "05400b67",
   "metadata": {},
   "outputs": [],
   "source": [
    "def tokenizer(sentence):\n",
    "    vocabulary = sentence.split()\n",
    "    vocabulary.append(\"<EOS>\")\n",
    "    \n",
    "    return vocabulary"
   ]
  },
  {
   "cell_type": "code",
   "execution_count": 25,
   "id": "64287d74",
   "metadata": {},
   "outputs": [],
   "source": [
    "def vocabulary_one_hot_encoder(tokens):\n",
    "    results = []\n",
    "\n",
    "    for i, _ in enumerate(tokens):\n",
    "        one_hot_encode_vector = [0. for i in range(len(tokens))]\n",
    "        \n",
    "        for j in range(i + 1):\n",
    "            one_hot_encode_vector[j] = 1. if j == i else 0.\n",
    "\n",
    "        results.append(one_hot_encode_vector)\n",
    "                    \n",
    "    return results"
   ]
  },
  {
   "cell_type": "code",
   "execution_count": 26,
   "id": "a879f094",
   "metadata": {},
   "outputs": [],
   "source": [
    "def create_cbow_pairs(sequence, window_size):\n",
    "    print(f\"sequence: {sequence}\")\n",
    "    print(f\"window_size: {window_size}\")\n",
    "    cbow_pairs = []\n",
    "\n",
    "    for i in range(len(sequence)):\n",
    "        print(f\"i: {i}\")\n",
    "        context = []\n",
    "\n",
    "        for j in range(-window_size, window_size + 1):\n",
    "            if i + j >= 0 and i + j < len(sequence) and j != 0:\n",
    "                context.append(sequence[i + j])\n",
    "        \n",
    "        # print(f\"context: {context}\")\n",
    "\n",
    "        if context:\n",
    "            context = np.sum(context, axis=0) / len(context)\n",
    "            cbow_pairs.append(context)\n",
    "            # print(f\"cbow_pairs: {cbow_pairs}\")\n",
    "            \n",
    "    return cbow_pairs"
   ]
  },
  {
   "cell_type": "code",
   "execution_count": 27,
   "id": "6faecbb7",
   "metadata": {},
   "outputs": [],
   "source": [
    "def word_decoder(anwser_list, vocabulary):\n",
    "    idx = anwser_list.index(max(anwser_list))        \n",
    "    return vocabulary[idx]"
   ]
  },
  {
   "cell_type": "code",
   "execution_count": 28,
   "id": "594d845d",
   "metadata": {},
   "outputs": [
    {
     "name": "stdout",
     "output_type": "stream",
     "text": [
      "['Hello.', 'We', 'are', 'LLM', 'students', 'at', 'the', 'Chanwanich.', 'Hello', 'I', 'am', 'LLM', 'LLM', 'students', 'at', 'the', 'Chanwanich.', '<EOS>']\n",
      "18\n"
     ]
    }
   ],
   "source": [
    "tokens = tokenizer(sentence)\n",
    "print(tokens)\n",
    "print(len(tokens))"
   ]
  },
  {
   "cell_type": "code",
   "execution_count": 29,
   "id": "d5cdca80",
   "metadata": {},
   "outputs": [
    {
     "name": "stdout",
     "output_type": "stream",
     "text": [
      "[[1.0, 0.0, 0.0, 0.0, 0.0, 0.0, 0.0, 0.0, 0.0, 0.0, 0.0, 0.0, 0.0, 0.0, 0.0, 0.0, 0.0, 0.0], [0.0, 1.0, 0.0, 0.0, 0.0, 0.0, 0.0, 0.0, 0.0, 0.0, 0.0, 0.0, 0.0, 0.0, 0.0, 0.0, 0.0, 0.0], [0.0, 0.0, 1.0, 0.0, 0.0, 0.0, 0.0, 0.0, 0.0, 0.0, 0.0, 0.0, 0.0, 0.0, 0.0, 0.0, 0.0, 0.0], [0.0, 0.0, 0.0, 1.0, 0.0, 0.0, 0.0, 0.0, 0.0, 0.0, 0.0, 0.0, 0.0, 0.0, 0.0, 0.0, 0.0, 0.0], [0.0, 0.0, 0.0, 0.0, 1.0, 0.0, 0.0, 0.0, 0.0, 0.0, 0.0, 0.0, 0.0, 0.0, 0.0, 0.0, 0.0, 0.0], [0.0, 0.0, 0.0, 0.0, 0.0, 1.0, 0.0, 0.0, 0.0, 0.0, 0.0, 0.0, 0.0, 0.0, 0.0, 0.0, 0.0, 0.0], [0.0, 0.0, 0.0, 0.0, 0.0, 0.0, 1.0, 0.0, 0.0, 0.0, 0.0, 0.0, 0.0, 0.0, 0.0, 0.0, 0.0, 0.0], [0.0, 0.0, 0.0, 0.0, 0.0, 0.0, 0.0, 1.0, 0.0, 0.0, 0.0, 0.0, 0.0, 0.0, 0.0, 0.0, 0.0, 0.0], [0.0, 0.0, 0.0, 0.0, 0.0, 0.0, 0.0, 0.0, 1.0, 0.0, 0.0, 0.0, 0.0, 0.0, 0.0, 0.0, 0.0, 0.0], [0.0, 0.0, 0.0, 0.0, 0.0, 0.0, 0.0, 0.0, 0.0, 1.0, 0.0, 0.0, 0.0, 0.0, 0.0, 0.0, 0.0, 0.0], [0.0, 0.0, 0.0, 0.0, 0.0, 0.0, 0.0, 0.0, 0.0, 0.0, 1.0, 0.0, 0.0, 0.0, 0.0, 0.0, 0.0, 0.0], [0.0, 0.0, 0.0, 0.0, 0.0, 0.0, 0.0, 0.0, 0.0, 0.0, 0.0, 1.0, 0.0, 0.0, 0.0, 0.0, 0.0, 0.0], [0.0, 0.0, 0.0, 0.0, 0.0, 0.0, 0.0, 0.0, 0.0, 0.0, 0.0, 0.0, 1.0, 0.0, 0.0, 0.0, 0.0, 0.0], [0.0, 0.0, 0.0, 0.0, 0.0, 0.0, 0.0, 0.0, 0.0, 0.0, 0.0, 0.0, 0.0, 1.0, 0.0, 0.0, 0.0, 0.0], [0.0, 0.0, 0.0, 0.0, 0.0, 0.0, 0.0, 0.0, 0.0, 0.0, 0.0, 0.0, 0.0, 0.0, 1.0, 0.0, 0.0, 0.0], [0.0, 0.0, 0.0, 0.0, 0.0, 0.0, 0.0, 0.0, 0.0, 0.0, 0.0, 0.0, 0.0, 0.0, 0.0, 1.0, 0.0, 0.0], [0.0, 0.0, 0.0, 0.0, 0.0, 0.0, 0.0, 0.0, 0.0, 0.0, 0.0, 0.0, 0.0, 0.0, 0.0, 0.0, 1.0, 0.0], [0.0, 0.0, 0.0, 0.0, 0.0, 0.0, 0.0, 0.0, 0.0, 0.0, 0.0, 0.0, 0.0, 0.0, 0.0, 0.0, 0.0, 1.0]]\n",
      "18\n"
     ]
    }
   ],
   "source": [
    "training_x = vocabulary_one_hot_encoder(tokens)\n",
    "print(training_x)\n",
    "print(len(training_x))"
   ]
  },
  {
   "cell_type": "code",
   "execution_count": 30,
   "id": "064a8de9",
   "metadata": {},
   "outputs": [
    {
     "name": "stdout",
     "output_type": "stream",
     "text": [
      "sequence: [[1.0, 0.0, 0.0, 0.0, 0.0, 0.0, 0.0, 0.0, 0.0, 0.0, 0.0, 0.0, 0.0, 0.0, 0.0, 0.0, 0.0, 0.0], [0.0, 1.0, 0.0, 0.0, 0.0, 0.0, 0.0, 0.0, 0.0, 0.0, 0.0, 0.0, 0.0, 0.0, 0.0, 0.0, 0.0, 0.0], [0.0, 0.0, 1.0, 0.0, 0.0, 0.0, 0.0, 0.0, 0.0, 0.0, 0.0, 0.0, 0.0, 0.0, 0.0, 0.0, 0.0, 0.0], [0.0, 0.0, 0.0, 1.0, 0.0, 0.0, 0.0, 0.0, 0.0, 0.0, 0.0, 0.0, 0.0, 0.0, 0.0, 0.0, 0.0, 0.0], [0.0, 0.0, 0.0, 0.0, 1.0, 0.0, 0.0, 0.0, 0.0, 0.0, 0.0, 0.0, 0.0, 0.0, 0.0, 0.0, 0.0, 0.0], [0.0, 0.0, 0.0, 0.0, 0.0, 1.0, 0.0, 0.0, 0.0, 0.0, 0.0, 0.0, 0.0, 0.0, 0.0, 0.0, 0.0, 0.0], [0.0, 0.0, 0.0, 0.0, 0.0, 0.0, 1.0, 0.0, 0.0, 0.0, 0.0, 0.0, 0.0, 0.0, 0.0, 0.0, 0.0, 0.0], [0.0, 0.0, 0.0, 0.0, 0.0, 0.0, 0.0, 1.0, 0.0, 0.0, 0.0, 0.0, 0.0, 0.0, 0.0, 0.0, 0.0, 0.0], [0.0, 0.0, 0.0, 0.0, 0.0, 0.0, 0.0, 0.0, 1.0, 0.0, 0.0, 0.0, 0.0, 0.0, 0.0, 0.0, 0.0, 0.0], [0.0, 0.0, 0.0, 0.0, 0.0, 0.0, 0.0, 0.0, 0.0, 1.0, 0.0, 0.0, 0.0, 0.0, 0.0, 0.0, 0.0, 0.0], [0.0, 0.0, 0.0, 0.0, 0.0, 0.0, 0.0, 0.0, 0.0, 0.0, 1.0, 0.0, 0.0, 0.0, 0.0, 0.0, 0.0, 0.0], [0.0, 0.0, 0.0, 0.0, 0.0, 0.0, 0.0, 0.0, 0.0, 0.0, 0.0, 1.0, 0.0, 0.0, 0.0, 0.0, 0.0, 0.0], [0.0, 0.0, 0.0, 0.0, 0.0, 0.0, 0.0, 0.0, 0.0, 0.0, 0.0, 0.0, 1.0, 0.0, 0.0, 0.0, 0.0, 0.0], [0.0, 0.0, 0.0, 0.0, 0.0, 0.0, 0.0, 0.0, 0.0, 0.0, 0.0, 0.0, 0.0, 1.0, 0.0, 0.0, 0.0, 0.0], [0.0, 0.0, 0.0, 0.0, 0.0, 0.0, 0.0, 0.0, 0.0, 0.0, 0.0, 0.0, 0.0, 0.0, 1.0, 0.0, 0.0, 0.0], [0.0, 0.0, 0.0, 0.0, 0.0, 0.0, 0.0, 0.0, 0.0, 0.0, 0.0, 0.0, 0.0, 0.0, 0.0, 1.0, 0.0, 0.0], [0.0, 0.0, 0.0, 0.0, 0.0, 0.0, 0.0, 0.0, 0.0, 0.0, 0.0, 0.0, 0.0, 0.0, 0.0, 0.0, 1.0, 0.0], [0.0, 0.0, 0.0, 0.0, 0.0, 0.0, 0.0, 0.0, 0.0, 0.0, 0.0, 0.0, 0.0, 0.0, 0.0, 0.0, 0.0, 1.0]]\n",
      "window_size: 2\n",
      "i: 0\n",
      "i: 1\n",
      "i: 2\n",
      "i: 3\n",
      "i: 4\n",
      "i: 5\n",
      "i: 6\n",
      "i: 7\n",
      "i: 8\n",
      "i: 9\n",
      "i: 10\n",
      "i: 11\n",
      "i: 12\n",
      "i: 13\n",
      "i: 14\n",
      "i: 15\n",
      "i: 16\n",
      "i: 17\n",
      "[array([0. , 0.5, 0.5, 0. , 0. , 0. , 0. , 0. , 0. , 0. , 0. , 0. , 0. ,\n",
      "       0. , 0. , 0. , 0. , 0. ]), array([0.33333333, 0.        , 0.33333333, 0.33333333, 0.        ,\n",
      "       0.        , 0.        , 0.        , 0.        , 0.        ,\n",
      "       0.        , 0.        , 0.        , 0.        , 0.        ,\n",
      "       0.        , 0.        , 0.        ]), array([0.25, 0.25, 0.  , 0.25, 0.25, 0.  , 0.  , 0.  , 0.  , 0.  , 0.  ,\n",
      "       0.  , 0.  , 0.  , 0.  , 0.  , 0.  , 0.  ]), array([0.  , 0.25, 0.25, 0.  , 0.25, 0.25, 0.  , 0.  , 0.  , 0.  , 0.  ,\n",
      "       0.  , 0.  , 0.  , 0.  , 0.  , 0.  , 0.  ]), array([0.  , 0.  , 0.25, 0.25, 0.  , 0.25, 0.25, 0.  , 0.  , 0.  , 0.  ,\n",
      "       0.  , 0.  , 0.  , 0.  , 0.  , 0.  , 0.  ]), array([0.  , 0.  , 0.  , 0.25, 0.25, 0.  , 0.25, 0.25, 0.  , 0.  , 0.  ,\n",
      "       0.  , 0.  , 0.  , 0.  , 0.  , 0.  , 0.  ]), array([0.  , 0.  , 0.  , 0.  , 0.25, 0.25, 0.  , 0.25, 0.25, 0.  , 0.  ,\n",
      "       0.  , 0.  , 0.  , 0.  , 0.  , 0.  , 0.  ]), array([0.  , 0.  , 0.  , 0.  , 0.  , 0.25, 0.25, 0.  , 0.25, 0.25, 0.  ,\n",
      "       0.  , 0.  , 0.  , 0.  , 0.  , 0.  , 0.  ]), array([0.  , 0.  , 0.  , 0.  , 0.  , 0.  , 0.25, 0.25, 0.  , 0.25, 0.25,\n",
      "       0.  , 0.  , 0.  , 0.  , 0.  , 0.  , 0.  ]), array([0.  , 0.  , 0.  , 0.  , 0.  , 0.  , 0.  , 0.25, 0.25, 0.  , 0.25,\n",
      "       0.25, 0.  , 0.  , 0.  , 0.  , 0.  , 0.  ]), array([0.  , 0.  , 0.  , 0.  , 0.  , 0.  , 0.  , 0.  , 0.25, 0.25, 0.  ,\n",
      "       0.25, 0.25, 0.  , 0.  , 0.  , 0.  , 0.  ]), array([0.  , 0.  , 0.  , 0.  , 0.  , 0.  , 0.  , 0.  , 0.  , 0.25, 0.25,\n",
      "       0.  , 0.25, 0.25, 0.  , 0.  , 0.  , 0.  ]), array([0.  , 0.  , 0.  , 0.  , 0.  , 0.  , 0.  , 0.  , 0.  , 0.  , 0.25,\n",
      "       0.25, 0.  , 0.25, 0.25, 0.  , 0.  , 0.  ]), array([0.  , 0.  , 0.  , 0.  , 0.  , 0.  , 0.  , 0.  , 0.  , 0.  , 0.  ,\n",
      "       0.25, 0.25, 0.  , 0.25, 0.25, 0.  , 0.  ]), array([0.  , 0.  , 0.  , 0.  , 0.  , 0.  , 0.  , 0.  , 0.  , 0.  , 0.  ,\n",
      "       0.  , 0.25, 0.25, 0.  , 0.25, 0.25, 0.  ]), array([0.  , 0.  , 0.  , 0.  , 0.  , 0.  , 0.  , 0.  , 0.  , 0.  , 0.  ,\n",
      "       0.  , 0.  , 0.25, 0.25, 0.  , 0.25, 0.25]), array([0.        , 0.        , 0.        , 0.        , 0.        ,\n",
      "       0.        , 0.        , 0.        , 0.        , 0.        ,\n",
      "       0.        , 0.        , 0.        , 0.        , 0.33333333,\n",
      "       0.33333333, 0.        , 0.33333333]), array([0. , 0. , 0. , 0. , 0. , 0. , 0. , 0. , 0. , 0. , 0. , 0. , 0. ,\n",
      "       0. , 0. , 0.5, 0.5, 0. ])]\n"
     ]
    }
   ],
   "source": [
    "CONTEXT_SIZE = 2\n",
    "\n",
    "training_y = create_cbow_pairs(training_x, CONTEXT_SIZE)\n",
    "print(training_y)"
   ]
  },
  {
   "cell_type": "code",
   "execution_count": 31,
   "id": "a70620b7",
   "metadata": {},
   "outputs": [],
   "source": [
    "class CBOWModeler(nn.Module):\n",
    "    def __init__(self, volcabulary_size, embedding_dim):\n",
    "        super(CBOWModeler, self).__init__()\n",
    "        self.linear1 = nn.Linear(volcabulary_size, embedding_dim, bias=False)\n",
    "        self.linear2 = nn.Linear(embedding_dim, volcabulary_size, bias=False)\n",
    "\n",
    "    def forward(self, x):\n",
    "        out = self.linear1(x)\n",
    "        out = self.linear2(out)\n",
    "        return F.softmax(out, dim=-1)\n",
    "    \n",
    "    def save_embedding_model(self):\n",
    "        params = self.linear1.state_dict()\n",
    "        print(params[\"weight\"])\n",
    "        print(params[\"weight\"].shape)\n",
    "        torch.save(params, \"./embedding_model.pt\")"
   ]
  },
  {
   "cell_type": "code",
   "execution_count": 32,
   "id": "d24fe92f",
   "metadata": {},
   "outputs": [
    {
     "name": "stdout",
     "output_type": "stream",
     "text": [
      "CBOWModeler(\n",
      "  (linear1): Linear(in_features=18, out_features=20, bias=False)\n",
      "  (linear2): Linear(in_features=20, out_features=18, bias=False)\n",
      ")\n"
     ]
    }
   ],
   "source": [
    "EMBEDDING_DIM = 20\n",
    "\n",
    "losses = []\n",
    "model = CBOWModeler(len(tokens), EMBEDDING_DIM).to(device)\n",
    "loss_function = nn.CrossEntropyLoss()\n",
    "optimizer = optim.Adam(model.parameters(), lr=0.05)\n",
    "\n",
    "print(model)"
   ]
  },
  {
   "cell_type": "code",
   "execution_count": 33,
   "id": "9e6d012b",
   "metadata": {},
   "outputs": [
    {
     "name": "stdout",
     "output_type": "stream",
     "text": [
      "[1.0, 0.0, 0.0, 0.0, 0.0, 0.0, 0.0, 0.0, 0.0, 0.0, 0.0, 0.0, 0.0, 0.0, 0.0, 0.0, 0.0, 0.0]\n",
      "18\n",
      "[0.  0.5 0.5 0.  0.  0.  0.  0.  0.  0.  0.  0.  0.  0.  0.  0.  0.  0. ]\n",
      "18\n"
     ]
    }
   ],
   "source": [
    "print(training_x[0])\n",
    "print(len(training_x[0]))\n",
    "print(training_y[0])\n",
    "print(len(training_y[0]))\n",
    "\n"
   ]
  },
  {
   "cell_type": "code",
   "execution_count": 34,
   "id": "3f68bd9b",
   "metadata": {},
   "outputs": [
    {
     "name": "stdout",
     "output_type": "stream",
     "text": [
      "tensor([[ 0.7928,  0.3316,  0.0749,  0.9376,  0.0941,  0.7221,  1.2779, -1.0350,\n",
      "         -1.2808,  1.4943, -1.2356, -0.9502, -2.3186, -1.1182,  0.8035, -1.3617,\n",
      "         -1.2926,  0.7379],\n",
      "        [-0.9238, -0.9280, -0.9854, -0.8207, -0.4526,  0.8013,  1.5929,  0.9659,\n",
      "          1.1998,  0.6742,  1.1444,  1.1421, -1.9636, -3.0929,  1.7600, -1.4613,\n",
      "         -1.0936,  1.4953],\n",
      "        [ 0.8190,  0.9487, -1.3181,  0.8586,  1.2519,  2.0236,  1.4445, -0.4791,\n",
      "          0.5466,  0.9111, -1.1180, -0.0104,  0.8911, -0.8006, -0.7596,  0.6397,\n",
      "         -0.6286, -0.7094],\n",
      "        [ 0.9283,  1.0759, -0.5557,  1.1290,  0.7175, -1.3177, -1.1469, -0.7630,\n",
      "          0.1433, -1.1553,  0.5487,  0.9839, -0.4804, -0.5886,  0.0833,  0.1819,\n",
      "         -1.1773, -1.3613],\n",
      "        [ 0.3560,  0.0476, -1.3179,  0.4190,  0.6010,  0.0557,  0.8149,  0.9118,\n",
      "          0.5778,  1.1820,  0.4735, -0.7598, -2.3283, -1.3789, -1.0200, -0.8330,\n",
      "         -0.9071, -0.8429],\n",
      "        [-0.9671, -0.8096, -0.7720, -1.0111, -0.8739, -0.5341, -1.1639, -0.3264,\n",
      "          0.6748,  1.3703,  0.2091,  0.3131,  1.6220,  0.9448,  1.4496, -0.6528,\n",
      "          0.2878,  1.2027],\n",
      "        [-0.4895, -0.3966, -1.4109, -0.6829, -0.7714, -1.0599, -1.5207,  0.6956,\n",
      "          1.1519,  1.5121,  0.2426,  0.8795,  1.0251, -0.3439, -0.2276,  0.0754,\n",
      "          0.0893,  1.0750],\n",
      "        [ 0.8787,  0.7586,  1.2194,  0.9994,  0.6073,  0.7256,  0.6635, -0.9643,\n",
      "         -1.1074, -0.1625, -0.8320, -1.0564,  0.4650, -0.1349, -1.2262,  0.4048,\n",
      "          0.4067, -0.0855],\n",
      "        [-1.0553, -1.4862,  1.2987, -0.9314, -1.1709,  1.3942,  1.4026, -1.0301,\n",
      "         -1.0258, -1.0747, -1.0549, -0.0327,  1.5086,  1.2854,  1.1565,  1.2627,\n",
      "          1.3642,  0.8716],\n",
      "        [-0.2365, -1.0350,  0.7315, -0.4558, -0.9820, -0.7713, -1.4241,  1.4172,\n",
      "          1.3887, -1.5603,  0.7131,  0.8509, -1.6879, -0.8376,  2.6617, -0.8797,\n",
      "         -0.6050,  1.2375],\n",
      "        [ 1.0060, -0.8170, -1.7429,  0.9230, -0.7109, -0.9799, -1.2083, -0.2887,\n",
      "         -0.0928,  1.7305,  0.7814,  0.4451,  1.6068,  0.8621,  1.4590,  0.3638,\n",
      "          0.9640,  0.9751],\n",
      "        [-1.0019, -1.0385, -0.7434, -0.8521, -0.8148, -1.3277, -0.2903,  1.6490,\n",
      "          0.8059, -1.0076,  0.7606,  0.8562,  1.7554,  1.1732,  1.5243,  1.4075,\n",
      "          1.0765,  1.2994],\n",
      "        [-0.1756, -1.0353, -1.9323,  0.0130, -0.7153,  1.2618,  1.0107,  1.1061,\n",
      "          1.0809,  0.7913,  1.0355,  1.0093, -1.1272, -0.9951, -1.5332, -0.3811,\n",
      "         -1.2074, -0.9419],\n",
      "        [-0.1676,  0.4678,  0.0312, -0.2917,  0.5949, -1.8252, -1.2295, -1.2846,\n",
      "         -1.2827,  1.2905, -0.9274, -1.3231, -0.1716, -0.5408,  0.7822, -0.3140,\n",
      "         -1.3374,  0.5446],\n",
      "        [-1.2980, -1.1943,  2.0077, -1.2657, -1.5808,  1.0028,  0.9641,  1.1344,\n",
      "          0.7383,  1.1322,  1.2905,  1.0394, -1.4945, -1.3801, -1.5566, -1.1686,\n",
      "         -1.3232, -1.1835],\n",
      "        [-1.1422, -1.6151,  0.5500, -0.9822, -0.8284, -0.5738, -0.4965, -0.3374,\n",
      "         -0.0227,  1.9334, -1.1185, -0.0756,  2.2432,  1.6067, -1.1686,  1.1032,\n",
      "          1.4981, -1.3293],\n",
      "        [ 1.1282,  1.1860, -0.7463,  1.3439,  1.0276, -1.3345, -1.3477,  0.5308,\n",
      "          1.1107,  1.4223,  1.2500,  1.0791, -0.1483, -0.4009, -1.2759, -0.2231,\n",
      "         -0.3200, -0.6942],\n",
      "        [ 1.0233,  1.1745,  1.2316,  1.0627,  0.8217,  0.7163, -0.7108,  0.6064,\n",
      "          0.4408,  0.2780,  0.6054, -0.5049, -1.9838, -0.0177,  1.1986, -1.2391,\n",
      "         -1.5268,  1.3013],\n",
      "        [ 0.9233,  0.8788,  1.3524,  0.7494,  0.7499,  0.5197, -0.5716, -0.2389,\n",
      "          0.4904, -1.3817, -0.8001, -0.9365, -1.7958, -1.2024, -1.2057, -0.9335,\n",
      "         -1.2804, -0.2202],\n",
      "        [-0.2223,  0.0882, -0.8131, -0.7604, -0.3289,  1.5234,  2.4207, -1.2286,\n",
      "         -0.8133,  1.1902, -0.6786, -1.1369,  2.2749,  1.5723,  1.3734,  1.3005,\n",
      "          1.3628,  0.9087]])\n",
      "torch.Size([20, 18])\n"
     ]
    }
   ],
   "source": [
    "for epoch in range(1000):\n",
    "    total_loss = 0\n",
    "    \n",
    "    for x, y in zip(training_x, training_y):\n",
    "        x, y = torch.tensor(x).to(device), torch.tensor(y).to(device)\n",
    "\n",
    "        model.zero_grad()\n",
    "\n",
    "        y_hat = model(x)\n",
    "\n",
    "        loss = loss_function(y, y_hat)\n",
    "\n",
    "        loss.backward()\n",
    "        optimizer.step()\n",
    "\n",
    "        total_loss += loss.item()\n",
    "    losses.append(total_loss)\n",
    "\n",
    "model.save_embedding_model()"
   ]
  },
  {
   "cell_type": "code",
   "execution_count": 35,
   "id": "8be5b190",
   "metadata": {},
   "outputs": [],
   "source": [
    "import matplotlib.pyplot as plt"
   ]
  },
  {
   "cell_type": "code",
   "execution_count": 36,
   "id": "994990d1",
   "metadata": {},
   "outputs": [],
   "source": [
    "def plot_losses(ax, t, losses):\n",
    "    ax.plot(t, losses)\n",
    "    ax.set_xlabel(\"Epoch\")\n",
    "    ax.set_ylabel(\"Loss\")"
   ]
  },
  {
   "cell_type": "code",
   "execution_count": 37,
   "id": "5e0339e2",
   "metadata": {},
   "outputs": [
    {
     "data": {
      "text/plain": [
       "1000"
      ]
     },
     "execution_count": 37,
     "metadata": {},
     "output_type": "execute_result"
    }
   ],
   "source": [
    "len(losses)"
   ]
  },
  {
   "cell_type": "code",
   "execution_count": 38,
   "id": "3541ba36",
   "metadata": {},
   "outputs": [
    {
     "data": {
      "image/png": "[encoded data removed]",
      "text/plain": [
       "<Figure size 640x480 with 1 Axes>"
      ]
     },
     "metadata": {},
     "output_type": "display_data"
    }
   ],
   "source": [
    "fig, ax = plt.subplots()\n",
    "plot_losses(ax, np.linspace(0., 1000., len(losses)), losses)"
   ]
  },
  {
   "cell_type": "code",
   "execution_count": 39,
   "id": "783469be",
   "metadata": {},
   "outputs": [
    {
     "name": "stdout",
     "output_type": "stream",
     "text": [
      "[1.0, 0.0, 0.0, 0.0, 0.0, 0.0, 0.0, 0.0, 0.0, 0.0, 0.0, 0.0, 0.0, 0.0, 0.0, 0.0, 0.0, 0.0]\n",
      "[0, 0, 1, 0, 0, 0, 0, 0, 0, 0, 0, 0, 0, 0, 0, 0, 0, 0]\n",
      "Hello. are\n",
      "[0.0, 1.0, 0.0, 0.0, 0.0, 0.0, 0.0, 0.0, 0.0, 0.0, 0.0, 0.0, 0.0, 0.0, 0.0, 0.0, 0.0, 0.0]\n",
      "[0, 0, 1, 0, 0, 0, 0, 0, 0, 0, 0, 0, 0, 0, 0, 0, 0, 0]\n",
      "We are\n",
      "[0.0, 0.0, 1.0, 0.0, 0.0, 0.0, 0.0, 0.0, 0.0, 0.0, 0.0, 0.0, 0.0, 0.0, 0.0, 0.0, 0.0, 0.0]\n",
      "[0, 0, 0, 1, 0, 0, 0, 0, 0, 0, 0, 0, 0, 0, 0, 0, 0, 0]\n",
      "are LLM\n",
      "[0.0, 0.0, 0.0, 1.0, 0.0, 0.0, 0.0, 0.0, 0.0, 0.0, 0.0, 0.0, 0.0, 0.0, 0.0, 0.0, 0.0, 0.0]\n",
      "[0, 0, 1, 0, 0, 0, 0, 0, 0, 0, 0, 0, 0, 0, 0, 0, 0, 0]\n",
      "LLM are\n",
      "[0.0, 0.0, 0.0, 0.0, 1.0, 0.0, 0.0, 0.0, 0.0, 0.0, 0.0, 0.0, 0.0, 0.0, 0.0, 0.0, 0.0, 0.0]\n",
      "[0, 0, 1, 0, 0, 0, 0, 0, 0, 0, 0, 0, 0, 0, 0, 0, 0, 0]\n",
      "students are\n",
      "[0.0, 0.0, 0.0, 0.0, 0.0, 1.0, 0.0, 0.0, 0.0, 0.0, 0.0, 0.0, 0.0, 0.0, 0.0, 0.0, 0.0, 0.0]\n",
      "[0, 0, 0, 0, 1, 0, 0, 0, 0, 0, 0, 0, 0, 0, 0, 0, 0, 0]\n",
      "at students\n",
      "[0.0, 0.0, 0.0, 0.0, 0.0, 0.0, 1.0, 0.0, 0.0, 0.0, 0.0, 0.0, 0.0, 0.0, 0.0, 0.0, 0.0, 0.0]\n",
      "[0, 0, 0, 0, 1, 0, 0, 0, 0, 0, 0, 0, 0, 0, 0, 0, 0, 0]\n",
      "the students\n",
      "[0.0, 0.0, 0.0, 0.0, 0.0, 0.0, 0.0, 1.0, 0.0, 0.0, 0.0, 0.0, 0.0, 0.0, 0.0, 0.0, 0.0, 0.0]\n",
      "[0, 0, 0, 0, 0, 0, 0, 0, 0, 1, 0, 0, 0, 0, 0, 0, 0, 0]\n",
      "Chanwanich. I\n",
      "[0.0, 0.0, 0.0, 0.0, 0.0, 0.0, 0.0, 0.0, 1.0, 0.0, 0.0, 0.0, 0.0, 0.0, 0.0, 0.0, 0.0, 0.0]\n",
      "[0, 0, 0, 0, 0, 0, 0, 0, 0, 1, 0, 0, 0, 0, 0, 0, 0, 0]\n",
      "Hello I\n",
      "[0.0, 0.0, 0.0, 0.0, 0.0, 0.0, 0.0, 0.0, 0.0, 1.0, 0.0, 0.0, 0.0, 0.0, 0.0, 0.0, 0.0, 0.0]\n",
      "[0, 0, 0, 0, 0, 0, 0, 0, 0, 0, 0, 1, 0, 0, 0, 0, 0, 0]\n",
      "I LLM\n",
      "[0.0, 0.0, 0.0, 0.0, 0.0, 0.0, 0.0, 0.0, 0.0, 0.0, 1.0, 0.0, 0.0, 0.0, 0.0, 0.0, 0.0, 0.0]\n",
      "[0, 0, 0, 0, 0, 0, 0, 0, 0, 1, 0, 0, 0, 0, 0, 0, 0, 0]\n",
      "am I\n",
      "[0.0, 0.0, 0.0, 0.0, 0.0, 0.0, 0.0, 0.0, 0.0, 0.0, 0.0, 1.0, 0.0, 0.0, 0.0, 0.0, 0.0, 0.0]\n",
      "[0, 0, 0, 0, 0, 0, 0, 0, 0, 1, 0, 0, 0, 0, 0, 0, 0, 0]\n",
      "LLM I\n",
      "[0.0, 0.0, 0.0, 0.0, 0.0, 0.0, 0.0, 0.0, 0.0, 0.0, 0.0, 0.0, 1.0, 0.0, 0.0, 0.0, 0.0, 0.0]\n",
      "[0, 0, 0, 0, 0, 0, 0, 0, 0, 0, 0, 0, 0, 0, 1, 0, 0, 0]\n",
      "LLM at\n",
      "[0.0, 0.0, 0.0, 0.0, 0.0, 0.0, 0.0, 0.0, 0.0, 0.0, 0.0, 0.0, 0.0, 1.0, 0.0, 0.0, 0.0, 0.0]\n",
      "[0, 0, 0, 0, 0, 0, 0, 0, 0, 0, 0, 0, 0, 0, 1, 0, 0, 0]\n",
      "students at\n",
      "[0.0, 0.0, 0.0, 0.0, 0.0, 0.0, 0.0, 0.0, 0.0, 0.0, 0.0, 0.0, 0.0, 0.0, 1.0, 0.0, 0.0, 0.0]\n",
      "[0, 0, 0, 0, 0, 0, 0, 0, 0, 0, 0, 0, 0, 0, 0, 1, 0, 0]\n",
      "at the\n",
      "[0.0, 0.0, 0.0, 0.0, 0.0, 0.0, 0.0, 0.0, 0.0, 0.0, 0.0, 0.0, 0.0, 0.0, 0.0, 1.0, 0.0, 0.0]\n",
      "[0, 0, 0, 0, 0, 0, 0, 0, 0, 0, 0, 0, 0, 0, 1, 0, 0, 0]\n",
      "the at\n",
      "[0.0, 0.0, 0.0, 0.0, 0.0, 0.0, 0.0, 0.0, 0.0, 0.0, 0.0, 0.0, 0.0, 0.0, 0.0, 0.0, 1.0, 0.0]\n",
      "[0, 0, 0, 0, 0, 0, 0, 0, 0, 0, 0, 0, 0, 0, 1, 0, 0, 0]\n",
      "Chanwanich. at\n",
      "[0.0, 0.0, 0.0, 0.0, 0.0, 0.0, 0.0, 0.0, 0.0, 0.0, 0.0, 0.0, 0.0, 0.0, 0.0, 0.0, 0.0, 1.0]\n",
      "[0, 0, 0, 0, 0, 0, 0, 0, 0, 0, 0, 0, 0, 0, 0, 1, 0, 0]\n",
      "<EOS> the\n"
     ]
    }
   ],
   "source": [
    "for x, y in zip(training_x, training_y):\n",
    "    # Get predicted vector\n",
    "    pred = model(torch.tensor(x).to(device))\n",
    "\n",
    "    # Get the argmax index\n",
    "    argmax_idx = torch.argmax(pred, keepdim=True)\n",
    "\n",
    "    # Create a one-hot encoded tensor\n",
    "    anwser_vector = F.one_hot(argmax_idx, num_classes=pred.size(-1)).int()\n",
    "    anwser_list = anwser_vector.tolist()\n",
    "\n",
    "    print(x)\n",
    "    print(anwser_list[0])\n",
    "    \n",
    "    question = word_decoder(x, tokens)\n",
    "    answer = word_decoder(anwser_list[0], tokens)\n",
    "    print(question, answer)"
   ]
  },
  {
   "cell_type": "code",
   "execution_count": null,
   "id": "5895191d",
   "metadata": {},
   "outputs": [],
   "source": []
  }
 ],
 "metadata": {
  "kernelspec": {
   "display_name": "Python 3 (ipykernel)",
   "language": "python",
   "name": "python3"
  },
  "language_info": {
   "codemirror_mode": {
    "name": "ipython",
    "version": 3
   },
   "file_extension": ".py",
   "mimetype": "text/x-python",
   "name": "python",
   "nbconvert_exporter": "python",
   "pygments_lexer": "ipython3",
   "version": "3.10.14"
  }
 },
 "nbformat": 4,
 "nbformat_minor": 5
}
