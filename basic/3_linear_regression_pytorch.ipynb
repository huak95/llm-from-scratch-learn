{
 "cells": [
  {
   "cell_type": "code",
   "execution_count": 2,
   "metadata": {},
   "outputs": [
    {
     "name": "stdout",
     "output_type": "stream",
     "text": [
      "X: tensor([[ 0.],\n",
      "        [ 1.],\n",
      "        [ 2.],\n",
      "        [ 3.],\n",
      "        [ 4.],\n",
      "        [ 5.],\n",
      "        [ 6.],\n",
      "        [ 7.],\n",
      "        [ 8.],\n",
      "        [ 9.],\n",
      "        [10.],\n",
      "        [11.],\n",
      "        [12.],\n",
      "        [13.],\n",
      "        [14.],\n",
      "        [15.],\n",
      "        [16.],\n",
      "        [17.],\n",
      "        [18.],\n",
      "        [19.]], requires_grad=True)\n",
      "y: tensor([[ 1.],\n",
      "        [ 3.],\n",
      "        [ 5.],\n",
      "        [ 7.],\n",
      "        [ 9.],\n",
      "        [11.],\n",
      "        [13.],\n",
      "        [15.],\n",
      "        [17.],\n",
      "        [19.],\n",
      "        [21.],\n",
      "        [23.],\n",
      "        [25.],\n",
      "        [27.],\n",
      "        [29.],\n",
      "        [31.],\n",
      "        [33.],\n",
      "        [35.],\n",
      "        [37.],\n",
      "        [39.]], requires_grad=True)\n"
     ]
    }
   ],
   "source": [
    "# Import necessary libraries from PyTorch\n",
    "import torch  # Main PyTorch library\n",
    "import torch.nn as nn  # For building neural networks\n",
    "import torch.optim as optim  # For optimization algorithms\n",
    "import numpy as np \n",
    "\n",
    "# Sample data: y = 2*x + 1\n",
    "np.random.seed(0)  # for reproducibility\n",
    "X = np.array(range(20)).reshape(20,1).astype(np.float32)  # Input values (20 samples)\n",
    "y = 2 * X + 1\n",
    "x_train = torch.tensor(X, requires_grad=True)  # Input values\n",
    "y_train = torch.tensor(y, requires_grad=True)  # Output values\n",
    "\n",
    "print(f'X: {x_train}')\n",
    "print(f'y: {y_train}')"
   ]
  },
  {
   "cell_type": "code",
   "execution_count": 3,
   "metadata": {},
   "outputs": [],
   "source": [
    "# Define the Linear Regression Model\n",
    "class LinearRegressionModel(nn.Module):  # Inherit from nn.Module\n",
    "    def __init__(self):\n",
    "        super(LinearRegressionModel, self).__init__()  # Call the initializer of the parent class\n",
    "        self.linear = nn.Linear(1, 1)  # Define a linear layer (input size = 1, output size = 1)\n",
    "\n",
    "    def forward(self, x):\n",
    "        return self.linear(x)  # Define the forward pass"
   ]
  },
  {
   "cell_type": "code",
   "execution_count": 4,
   "metadata": {},
   "outputs": [
    {
     "name": "stdout",
     "output_type": "stream",
     "text": [
      "Epoch [100/1000], Loss: 0.0000\n",
      "Epoch [200/1000], Loss: 0.0000\n",
      "Epoch [300/1000], Loss: 0.0000\n",
      "Epoch [400/1000], Loss: 0.0000\n",
      "Epoch [500/1000], Loss: 0.0000\n",
      "Epoch [600/1000], Loss: 0.0000\n",
      "Epoch [700/1000], Loss: 0.0000\n",
      "Epoch [800/1000], Loss: 0.0000\n",
      "Epoch [900/1000], Loss: 0.0000\n",
      "Epoch [1000/1000], Loss: 0.0000\n"
     ]
    }
   ],
   "source": [
    "# Instantiate the model\n",
    "model = LinearRegressionModel()\n",
    "\n",
    "# Define the loss function and the optimizer\n",
    "criterion = nn.MSELoss()  # Mean Squared Error loss function\n",
    "optimizer = optim.SGD(model.parameters(), lr=0.005)  # Stochastic Gradient Descent optimizer with learning rate 0.01\n",
    "\n",
    "# Training loop\n",
    "num_epochs = 1000  # Number of epochs for training\n",
    "for epoch in range(num_epochs):\n",
    "    # Forward pass: Compute predicted y by passing x to the model\n",
    "    outputs = model(x_train)\n",
    "    loss = criterion(outputs, y_train)  # Calculate the loss\n",
    "\n",
    "    # Backward pass and optimization\n",
    "    optimizer.zero_grad()  # Zero the gradients before backward pass\n",
    "    loss.backward()  # Compute gradients using backpropagation\n",
    "    optimizer.step()  # Update weights based on gradients\n",
    "\n",
    "    # Print the loss every 100 epochs\n",
    "    if (epoch+1) % 100 == 0:\n",
    "        print(f'Epoch [{epoch+1}/{num_epochs}], Loss: {loss.item():.4f}')"
   ]
  },
  {
   "cell_type": "code",
   "execution_count": 5,
   "metadata": {},
   "outputs": [
    {
     "name": "stdout",
     "output_type": "stream",
     "text": [
      "Predicted values: tensor([[ 0.9996],\n",
      "        [ 2.9997],\n",
      "        [ 4.9997],\n",
      "        [ 6.9997],\n",
      "        [ 8.9997],\n",
      "        [10.9998],\n",
      "        [12.9998],\n",
      "        [14.9998],\n",
      "        [16.9999],\n",
      "        [18.9999],\n",
      "        [20.9999],\n",
      "        [22.9999],\n",
      "        [25.0000],\n",
      "        [27.0000],\n",
      "        [29.0000],\n",
      "        [31.0001],\n",
      "        [33.0001],\n",
      "        [35.0001],\n",
      "        [37.0001],\n",
      "        [39.0002]])\n",
      "Actual values: tensor([[ 1.],\n",
      "        [ 3.],\n",
      "        [ 5.],\n",
      "        [ 7.],\n",
      "        [ 9.],\n",
      "        [11.],\n",
      "        [13.],\n",
      "        [15.],\n",
      "        [17.],\n",
      "        [19.],\n",
      "        [21.],\n",
      "        [23.],\n",
      "        [25.],\n",
      "        [27.],\n",
      "        [29.],\n",
      "        [31.],\n",
      "        [33.],\n",
      "        [35.],\n",
      "        [37.],\n",
      "        [39.]], requires_grad=True)\n"
     ]
    }
   ],
   "source": [
    "\n",
    "# Test the model\n",
    "model.eval()  # Set the model to evaluation mode\n",
    "with torch.no_grad():  # Disable gradient calculation for testing\n",
    "    predicted = model(x_train).detach()  # Get predictions and detach from computation graph\n",
    "    print(f'Predicted values: {predicted}')  # Print the predicted values\n",
    "    print(f'Actual values: {y_train}')  # Print the actual values"
   ]
  },
  {
   "cell_type": "code",
   "execution_count": null,
   "metadata": {},
   "outputs": [],
   "source": []
  }
 ],
 "metadata": {
  "kernelspec": {
   "display_name": "LLMs",
   "language": "python",
   "name": "python3"
  },
  "language_info": {
   "codemirror_mode": {
    "name": "ipython",
    "version": 3
   },
   "file_extension": ".py",
   "mimetype": "text/x-python",
   "name": "python",
   "nbconvert_exporter": "python",
   "pygments_lexer": "ipython3",
   "version": "3.10.14"
  }
 },
 "nbformat": 4,
 "nbformat_minor": 2
}
